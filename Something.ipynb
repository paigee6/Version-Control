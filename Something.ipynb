{
 "cells": [
  {
   "cell_type": "code",
   "execution_count": 4,
   "id": "ae519773-9d6d-4f87-9259-0346d34d722c",
   "metadata": {},
   "outputs": [
    {
     "name": "stdin",
     "output_type": "stream",
     "text": [
      "What is your name? Paige\n",
      "How old are you? 18\n"
     ]
    },
    {
     "name": "stdout",
     "output_type": "stream",
     "text": [
      "Paige was born in either 2007 or 2006\n"
     ]
    }
   ],
   "source": [
    "name=input(\"What is your name?\")\n",
    "age=input(\"How old are you?\")\n",
    "year=2025-int(age)\n",
    "print(name,\"was born in either\",year,\"or\",year-1)"
   ]
  },
  {
   "cell_type": "code",
   "execution_count": null,
   "id": "4e78e813-8e49-4ee2-abaa-cbe7364bd3b3",
   "metadata": {},
   "outputs": [],
   "source": []
  }
 ],
 "metadata": {
  "kernelspec": {
   "display_name": "Python 3 (ipykernel)",
   "language": "python",
   "name": "python3"
  },
  "language_info": {
   "codemirror_mode": {
    "name": "ipython",
    "version": 3
   },
   "file_extension": ".py",
   "mimetype": "text/x-python",
   "name": "python",
   "nbconvert_exporter": "python",
   "pygments_lexer": "ipython3",
   "version": "3.11.13"
  }
 },
 "nbformat": 4,
 "nbformat_minor": 5
}
